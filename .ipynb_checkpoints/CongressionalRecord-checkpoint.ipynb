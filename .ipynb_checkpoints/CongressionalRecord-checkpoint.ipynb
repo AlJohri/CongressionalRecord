{
 "metadata": {
  "name": "",
  "signature": "sha256:2a10aef5be6c29e06a4afe5901a43dc594f2649e05fc039c9c1ede3a84ec5724"
 },
 "nbformat": 3,
 "nbformat_minor": 0,
 "worksheets": [
  {
   "cells": [
    {
     "cell_type": "heading",
     "level": 1,
     "metadata": {},
     "source": [
      "Naive Bayes Classification: United States Congressional Record"
     ]
    },
    {
     "cell_type": "markdown",
     "metadata": {},
     "source": [
      "The Naive Bayes classifier is a statsitcal programing tool with diverse uses in text analysis. It is famously used for determining if an email is \"spam\" or \"ham\"(the opposite of spam). It also has uses in sentiment analysis, for example, determining whether a movie review was good or bad, determining the authorship of an article, or categorizing documents into topics. Today we will be using a naive bayes classifier however, not to classify, but to analyze competing sides of political debates on the floor of the US Congress."
     ]
    },
    {
     "cell_type": "heading",
     "level": 5,
     "metadata": {},
     "source": [
      "Import Necessary Tools"
     ]
    },
    {
     "cell_type": "code",
     "collapsed": false,
     "input": [
      "%pylab inline \n",
      "\n",
      "from __future__ import division\n",
      "\n",
      "from sklearn.feature_extraction.text import CountVectorizer\n",
      "from sklearn.feature_extraction.text import TfidfVectorizer\n",
      "from sklearn.naive_bayes import MultinomialNB\n",
      "from sklearn.naive_bayes import GaussianNB\n",
      "from sklearn.naive_bayes import BernoulliNB\n",
      "from sklearn.cross_validation import cross_val_score\n",
      "from sklearn.cross_validation import train_test_split\n",
      "\n",
      "from speech import Speech"
     ],
     "language": "python",
     "metadata": {},
     "outputs": []
    },
    {
     "cell_type": "heading",
     "level": 5,
     "metadata": {},
     "source": [
      "Query Database for Speeches"
     ]
    },
    {
     "cell_type": "code",
     "collapsed": false,
     "input": [
      "phrase = \"abortion\" \n",
      "num_speeches = Speech.get(0, 0, phrase=phrase, congress=\"\", start_date=\"1995-05-04\", speaker_party=\"*\")['count']\n",
      "print \"Downloading %i speeches\" % num_speeches\n",
      "speeches = Speech.get(start=0, rows=num_speeches, phrase=phrase, speaker_party=\"*\")['speeches']\n",
      "print len(speeches), \"speeches downloaded\""
     ],
     "language": "python",
     "metadata": {},
     "outputs": []
    },
    {
     "cell_type": "heading",
     "level": 5,
     "metadata": {},
     "source": [
      "Perpare the tools we will use to do our text analysis"
     ]
    },
    {
     "cell_type": "code",
     "collapsed": false,
     "input": [
      "naive_bayes = MultinomialNB(alpha=1.0,fit_prior=True)\n",
      "vectorizer = TfidfVectorizer(min_df=.1, max_df=.6, stop_words='english' )"
     ],
     "language": "python",
     "metadata": {},
     "outputs": []
    },
    {
     "cell_type": "heading",
     "level": 5,
     "metadata": {},
     "source": [
      "Perpare data for analysis"
     ]
    },
    {
     "cell_type": "code",
     "collapsed": false,
     "input": [
      "data = [\" \".join(speech['speaking']) for speech in speeches]\n",
      "data = vectorizer.fit_transform(data)\n",
      "target = [speech['speaker_party'] for speech in speeches]\n",
      "target = [ 0 if x == \"D\" else 1 for x in target ]"
     ],
     "language": "python",
     "metadata": {},
     "outputs": []
    },
    {
     "cell_type": "heading",
     "level": 6,
     "metadata": {},
     "source": [
      "What our data looks like"
     ]
    },
    {
     "cell_type": "code",
     "collapsed": false,
     "input": [
      "data.shape"
     ],
     "language": "python",
     "metadata": {},
     "outputs": []
    },
    {
     "cell_type": "heading",
     "level": 6,
     "metadata": {},
     "source": [
      "Building a Training and Testing set"
     ]
    },
    {
     "cell_type": "code",
     "collapsed": false,
     "input": [
      "X_train, X_test , Y_train, Y_test = train_test_split(data, target, test_size=0.2)\n",
      "print X_train.shape, X_test.shape, len(Y_train), len(Y_test)"
     ],
     "language": "python",
     "metadata": {},
     "outputs": []
    },
    {
     "cell_type": "heading",
     "level": 5,
     "metadata": {},
     "source": [
      "Run the Classifier"
     ]
    },
    {
     "cell_type": "code",
     "collapsed": false,
     "input": [
      "naive_bayes.fit(X_train, Y_train)"
     ],
     "language": "python",
     "metadata": {},
     "outputs": []
    },
    {
     "cell_type": "heading",
     "level": 5,
     "metadata": {},
     "source": [
      "See if the classifier is any good"
     ]
    },
    {
     "cell_type": "code",
     "collapsed": false,
     "input": [
      "naive_bayes.score(X_test, Y_test)"
     ],
     "language": "python",
     "metadata": {},
     "outputs": []
    },
    {
     "cell_type": "code",
     "collapsed": false,
     "input": [
      "cross_val_score(naive_bayes, data, target, scoring='accuracy', verbose=1, cv=5)"
     ],
     "language": "python",
     "metadata": {},
     "outputs": []
    },
    {
     "cell_type": "heading",
     "level": 5,
     "metadata": {},
     "source": [
      "Observe words most indicative if a speech is DEM or REP speech"
     ]
    },
    {
     "cell_type": "code",
     "collapsed": false,
     "input": [
      "terms = vectorizer.get_feature_names()\n",
      "t1 = [(naive_bayes.feature_log_prob_[0][i] * (naive_bayes.class_count_[0] / naive_bayes.class_count_.sum())) for i in range(len(terms))]\n",
      "t2 = [(naive_bayes.feature_log_prob_[1][i] * (naive_bayes.class_count_[1] / naive_bayes.class_count_.sum())) for i in range(len(terms))]"
     ],
     "language": "python",
     "metadata": {},
     "outputs": []
    },
    {
     "cell_type": "code",
     "collapsed": false,
     "input": [
      "[(terms[i],t1[i]) for i in np.array(t1).argsort()] # Top Terms for Republicans"
     ],
     "language": "python",
     "metadata": {},
     "outputs": []
    },
    {
     "cell_type": "code",
     "collapsed": false,
     "input": [
      "[(terms[i],t2[i]) for i in np.array(t2).argsort()] # Top Terms for Democrats"
     ],
     "language": "python",
     "metadata": {},
     "outputs": []
    },
    {
     "cell_type": "heading",
     "level": 2,
     "metadata": {},
     "source": [
      "Brainstrom"
     ]
    },
    {
     "cell_type": "markdown",
     "metadata": {},
     "source": [
      "What other contexts might you be able to apply this methodology to? How can a classifier be useful in your work? How about the particular way in which we were able to find the words most indicative of a certain class?"
     ]
    }
   ],
   "metadata": {}
  }
 ]
}